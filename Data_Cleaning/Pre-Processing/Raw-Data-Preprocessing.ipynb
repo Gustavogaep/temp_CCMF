{
 "cells": [
  {
   "cell_type": "markdown",
   "metadata": {},
   "source": [
    "# Raw Data Pre-Processing\n",
    "\n",
    "- Load raw data from CCMF's spreadsheet\n",
    "- Consolidate years 2018-2020 into one table and assign an ID number to each incident\n",
    "- Extract article URLs for web scraping\n",
    "- Extract locations for further data cleaning\n",
    "- Do some preliminary cleaning of the various other tags (target communities, incident categories)\n",
    "- Save consolidated raw data, locations, and tags to CSV files for further processing"
   ]
  },
  {
   "cell_type": "code",
   "execution_count": 1,
   "metadata": {},
   "outputs": [],
   "source": [
    "import pandas as pd\n",
    "import numpy as np\n",
    "from urllib.parse import urlparse\n",
    "pd.options.display.max_rows = 100\n",
    "\n",
    "save_csv = True"
   ]
  },
  {
   "cell_type": "markdown",
   "metadata": {},
   "source": [
    "### Load data and concatenate"
   ]
  },
  {
   "cell_type": "code",
   "execution_count": 2,
   "metadata": {},
   "outputs": [
    {
     "name": "stdout",
     "output_type": "stream",
     "text": [
      "(1000, 10)\n"
     ]
    },
    {
     "data": {
      "text/html": [
       "<div>\n",
       "<style scoped>\n",
       "    .dataframe tbody tr th:only-of-type {\n",
       "        vertical-align: middle;\n",
       "    }\n",
       "\n",
       "    .dataframe tbody tr th {\n",
       "        vertical-align: top;\n",
       "    }\n",
       "\n",
       "    .dataframe thead th {\n",
       "        text-align: right;\n",
       "    }\n",
       "</style>\n",
       "<table border=\"1\" class=\"dataframe\">\n",
       "  <thead>\n",
       "    <tr style=\"text-align: right;\">\n",
       "      <th></th>\n",
       "      <th>date</th>\n",
       "      <th>location</th>\n",
       "      <th>category</th>\n",
       "      <th>sub_category</th>\n",
       "      <th>target_community</th>\n",
       "      <th>description</th>\n",
       "      <th>article_url</th>\n",
       "      <th>year</th>\n",
       "      <th>orig_sheet_name</th>\n",
       "      <th>orig_row_num</th>\n",
       "    </tr>\n",
       "    <tr>\n",
       "      <th>incident_id</th>\n",
       "      <th></th>\n",
       "      <th></th>\n",
       "      <th></th>\n",
       "      <th></th>\n",
       "      <th></th>\n",
       "      <th></th>\n",
       "      <th></th>\n",
       "      <th></th>\n",
       "      <th></th>\n",
       "      <th></th>\n",
       "    </tr>\n",
       "  </thead>\n",
       "  <tbody>\n",
       "    <tr>\n",
       "      <th>996</th>\n",
       "      <td>2020-06-23</td>\n",
       "      <td>Toronto</td>\n",
       "      <td>Police Investigation</td>\n",
       "      <td>hate crime</td>\n",
       "      <td>anti-black</td>\n",
       "      <td>Two nooses were placed in areas at which two B...</td>\n",
       "      <td>https://globalnews.ca/news/7098601/anti-black-...</td>\n",
       "      <td>2020.0</td>\n",
       "      <td>2020 collection</td>\n",
       "      <td>259</td>\n",
       "    </tr>\n",
       "    <tr>\n",
       "      <th>997</th>\n",
       "      <td>2020-06-22</td>\n",
       "      <td>Abbotsford</td>\n",
       "      <td>HR investigation</td>\n",
       "      <td>hate speech</td>\n",
       "      <td>anti-black</td>\n",
       "      <td>UFV investigating two students accused of racism</td>\n",
       "      <td>https://www.citynews1130.com/2020/06/22/ufv-in...</td>\n",
       "      <td>2020.0</td>\n",
       "      <td>2020 collection</td>\n",
       "      <td>260</td>\n",
       "    </tr>\n",
       "    <tr>\n",
       "      <th>998</th>\n",
       "      <td>2020-06-26</td>\n",
       "      <td>Montreal</td>\n",
       "      <td>NC</td>\n",
       "      <td>profiled</td>\n",
       "      <td>anti-black</td>\n",
       "      <td>West Island grad labelled 'most likely to beco...</td>\n",
       "      <td>https://www.cbc.ca/news/canada/montreal/wanted...</td>\n",
       "      <td>2020.0</td>\n",
       "      <td>2020 collection</td>\n",
       "      <td>261</td>\n",
       "    </tr>\n",
       "    <tr>\n",
       "      <th>999</th>\n",
       "      <td>2020-06-26</td>\n",
       "      <td>British Columbia</td>\n",
       "      <td>HR investigation</td>\n",
       "      <td>discrimination at work</td>\n",
       "      <td>anti-immigrant</td>\n",
       "      <td>Foreign-trained doctors file B.C. human rights...</td>\n",
       "      <td>https://globalnews.ca/news/7114162/b-c-foreign...</td>\n",
       "      <td>2020.0</td>\n",
       "      <td>2020 collection</td>\n",
       "      <td>262</td>\n",
       "    </tr>\n",
       "    <tr>\n",
       "      <th>1000</th>\n",
       "      <td>2020-06-26</td>\n",
       "      <td>Vancouver</td>\n",
       "      <td>NC</td>\n",
       "      <td>political</td>\n",
       "      <td>white supremacist</td>\n",
       "      <td>Vancouver Police Chief says the suggestion of ...</td>\n",
       "      <td>https://vancouversun.com/news/local-news/dan-f...</td>\n",
       "      <td>2020.0</td>\n",
       "      <td>2020 collection</td>\n",
       "      <td>263</td>\n",
       "    </tr>\n",
       "  </tbody>\n",
       "</table>\n",
       "</div>"
      ],
      "text/plain": [
       "                  date          location              category  \\\n",
       "incident_id                                                      \n",
       "996         2020-06-23           Toronto  Police Investigation   \n",
       "997         2020-06-22        Abbotsford      HR investigation   \n",
       "998         2020-06-26          Montreal                    NC   \n",
       "999         2020-06-26  British Columbia      HR investigation   \n",
       "1000        2020-06-26         Vancouver                    NC   \n",
       "\n",
       "                       sub_category   target_community  \\\n",
       "incident_id                                              \n",
       "996                      hate crime         anti-black   \n",
       "997                     hate speech         anti-black   \n",
       "998                        profiled         anti-black   \n",
       "999          discrimination at work     anti-immigrant   \n",
       "1000                      political  white supremacist   \n",
       "\n",
       "                                                   description  \\\n",
       "incident_id                                                      \n",
       "996          Two nooses were placed in areas at which two B...   \n",
       "997           UFV investigating two students accused of racism   \n",
       "998          West Island grad labelled 'most likely to beco...   \n",
       "999          Foreign-trained doctors file B.C. human rights...   \n",
       "1000         Vancouver Police Chief says the suggestion of ...   \n",
       "\n",
       "                                                   article_url    year  \\\n",
       "incident_id                                                              \n",
       "996          https://globalnews.ca/news/7098601/anti-black-...  2020.0   \n",
       "997          https://www.citynews1130.com/2020/06/22/ufv-in...  2020.0   \n",
       "998          https://www.cbc.ca/news/canada/montreal/wanted...  2020.0   \n",
       "999          https://globalnews.ca/news/7114162/b-c-foreign...  2020.0   \n",
       "1000         https://vancouversun.com/news/local-news/dan-f...  2020.0   \n",
       "\n",
       "             orig_sheet_name  orig_row_num  \n",
       "incident_id                                 \n",
       "996          2020 collection           259  \n",
       "997          2020 collection           260  \n",
       "998          2020 collection           261  \n",
       "999          2020 collection           262  \n",
       "1000         2020 collection           263  "
      ]
     },
     "execution_count": 2,
     "metadata": {},
     "output_type": "execute_result"
    }
   ],
   "source": [
    "datafile = '../Raw_Data_from_CCMF/20200703 - 2018-2020 Quantifying Race Relations.xlsx'\n",
    "sheet_names = ['2018 collection', '2019 collection', '2020 collection']\n",
    "extra_header_rows = [2, 0, 0]\n",
    "\n",
    "short_names = {\n",
    "    'Date (MM/DD/YY)' : 'date',\n",
    "    'Location (City)' : 'location',\n",
    "    'Criminal (C) vs. Non-Criminal (NC)' : 'category',\n",
    "    'Sub-Categorization of Criminal v. Non-Criminal' : 'sub_category',\n",
    "    'Target Community' : 'target_community',\n",
    "    'Notes' : 'description',\n",
    "    'Link to Article ' : 'article_url'\n",
    "}\n",
    "\n",
    "# Read race relations data for each year and concatenate into a single dataframe\n",
    "rr = pd.DataFrame()\n",
    "for sheet_name, skiprows in zip(sheet_names, extra_header_rows):\n",
    "    df = (pd.read_excel(datafile, sheet_name=sheet_name, skiprows=skiprows)\n",
    "          .rename(short_names, axis=1)\n",
    "          .drop('Number', axis=1, errors='ignore')\n",
    "          .dropna(how='all')\n",
    "         )\n",
    "    \n",
    "    # Some missing / unconfirmed dates have been flagged with ?, set these to NaN and convert\n",
    "    # column to datetime\n",
    "    if str(df['date'].dtype) != 'datetime64[ns]':\n",
    "        df.loc[df['date'].str.contains('/?').fillna(False), 'date'] = np.nan\n",
    "        df['date'] = pd.to_datetime(df['date'])\n",
    "    \n",
    "    # Parse dates and add some info to facilitate comparison of cleaned data with the original spreadsheet\n",
    "    df['year'] = df['date'].dt.year\n",
    "    df['orig_sheet_name'] = sheet_name\n",
    "    df['orig_row_num'] = df.index + 1 + skiprows\n",
    "    \n",
    "    # Append to main dataframe\n",
    "    rr = rr.append(df)\n",
    "\n",
    "# Assign a unique integer ID to each incident and set as the dataframe's index\n",
    "rr['incident_id'] = np.arange(1, len(rr) + 1)\n",
    "rr = rr.set_index('incident_id', drop=True)\n",
    "\n",
    "# Strip outer white space from text columns\n",
    "for col in rr.select_dtypes(include=object).columns:\n",
    "    rr[col] = rr[col].str.strip()\n",
    "    \n",
    "print(rr.shape)\n",
    "rr.tail()"
   ]
  },
  {
   "cell_type": "markdown",
   "metadata": {},
   "source": [
    "### Data overview"
   ]
  },
  {
   "cell_type": "code",
   "execution_count": 3,
   "metadata": {},
   "outputs": [
    {
     "name": "stdout",
     "output_type": "stream",
     "text": [
      "<class 'pandas.core.frame.DataFrame'>\n",
      "Int64Index: 1000 entries, 1 to 1000\n",
      "Data columns (total 10 columns):\n",
      " #   Column            Non-Null Count  Dtype         \n",
      "---  ------            --------------  -----         \n",
      " 0   date              997 non-null    datetime64[ns]\n",
      " 1   location          1000 non-null   object        \n",
      " 2   category          999 non-null    object        \n",
      " 3   sub_category      999 non-null    object        \n",
      " 4   target_community  997 non-null    object        \n",
      " 5   description       999 non-null    object        \n",
      " 6   article_url       1000 non-null   object        \n",
      " 7   year              997 non-null    float64       \n",
      " 8   orig_sheet_name   1000 non-null   object        \n",
      " 9   orig_row_num      1000 non-null   int64         \n",
      "dtypes: datetime64[ns](1), float64(1), int64(1), object(7)\n",
      "memory usage: 85.9+ KB\n"
     ]
    }
   ],
   "source": [
    "rr.info()"
   ]
  },
  {
   "cell_type": "code",
   "execution_count": 4,
   "metadata": {},
   "outputs": [
    {
     "data": {
      "text/html": [
       "<div>\n",
       "<style scoped>\n",
       "    .dataframe tbody tr th:only-of-type {\n",
       "        vertical-align: middle;\n",
       "    }\n",
       "\n",
       "    .dataframe tbody tr th {\n",
       "        vertical-align: top;\n",
       "    }\n",
       "\n",
       "    .dataframe thead th {\n",
       "        text-align: right;\n",
       "    }\n",
       "</style>\n",
       "<table border=\"1\" class=\"dataframe\">\n",
       "  <thead>\n",
       "    <tr style=\"text-align: right;\">\n",
       "      <th></th>\n",
       "      <th>location</th>\n",
       "      <th>category</th>\n",
       "      <th>sub_category</th>\n",
       "      <th>target_community</th>\n",
       "      <th>description</th>\n",
       "      <th>article_url</th>\n",
       "      <th>orig_sheet_name</th>\n",
       "    </tr>\n",
       "  </thead>\n",
       "  <tbody>\n",
       "    <tr>\n",
       "      <th>count</th>\n",
       "      <td>1000</td>\n",
       "      <td>999</td>\n",
       "      <td>999</td>\n",
       "      <td>997</td>\n",
       "      <td>999</td>\n",
       "      <td>1000</td>\n",
       "      <td>1000</td>\n",
       "    </tr>\n",
       "    <tr>\n",
       "      <th>unique</th>\n",
       "      <td>219</td>\n",
       "      <td>52</td>\n",
       "      <td>117</td>\n",
       "      <td>163</td>\n",
       "      <td>996</td>\n",
       "      <td>984</td>\n",
       "      <td>3</td>\n",
       "    </tr>\n",
       "    <tr>\n",
       "      <th>top</th>\n",
       "      <td>Ottawa</td>\n",
       "      <td>NC</td>\n",
       "      <td>race relations</td>\n",
       "      <td>anti-black</td>\n",
       "      <td>Suspect wanted in connection with 4 acts of ha...</td>\n",
       "      <td>https://newsinteractives.cbc.ca/longform/covid...</td>\n",
       "      <td>2019 collection</td>\n",
       "    </tr>\n",
       "    <tr>\n",
       "      <th>freq</th>\n",
       "      <td>92</td>\n",
       "      <td>638</td>\n",
       "      <td>212</td>\n",
       "      <td>177</td>\n",
       "      <td>2</td>\n",
       "      <td>4</td>\n",
       "      <td>478</td>\n",
       "    </tr>\n",
       "  </tbody>\n",
       "</table>\n",
       "</div>"
      ],
      "text/plain": [
       "       location category    sub_category target_community  \\\n",
       "count      1000      999             999              997   \n",
       "unique      219       52             117              163   \n",
       "top      Ottawa       NC  race relations       anti-black   \n",
       "freq         92      638             212              177   \n",
       "\n",
       "                                              description  \\\n",
       "count                                                 999   \n",
       "unique                                                996   \n",
       "top     Suspect wanted in connection with 4 acts of ha...   \n",
       "freq                                                    2   \n",
       "\n",
       "                                              article_url  orig_sheet_name  \n",
       "count                                                1000             1000  \n",
       "unique                                                984                3  \n",
       "top     https://newsinteractives.cbc.ca/longform/covid...  2019 collection  \n",
       "freq                                                    4              478  "
      ]
     },
     "execution_count": 4,
     "metadata": {},
     "output_type": "execute_result"
    }
   ],
   "source": [
    "# Summarize the non-numeric columns\n",
    "rr.describe(include=object)"
   ]
  },
  {
   "cell_type": "code",
   "execution_count": 5,
   "metadata": {},
   "outputs": [
    {
     "data": {
      "text/plain": [
       "2018.0    258\n",
       "2019.0    480\n",
       "2020.0    259\n",
       "NaN         3\n",
       "Name: year, dtype: int64"
      ]
     },
     "execution_count": 5,
     "metadata": {},
     "output_type": "execute_result"
    }
   ],
   "source": [
    "# Number of incidents each year\n",
    "rr['year'].value_counts(dropna=False).sort_index()"
   ]
  },
  {
   "cell_type": "markdown",
   "metadata": {},
   "source": [
    "### Article URLs\n",
    "\n",
    "URLs and domains for each article, for web scraping."
   ]
  },
  {
   "cell_type": "code",
   "execution_count": 6,
   "metadata": {},
   "outputs": [],
   "source": [
    "def extract_domain(url):\n",
    "    return '.'.join(urlparse(url).netloc.split('.')[-2:])"
   ]
  },
  {
   "cell_type": "code",
   "execution_count": 7,
   "metadata": {},
   "outputs": [
    {
     "data": {
      "text/html": [
       "<div>\n",
       "<style scoped>\n",
       "    .dataframe tbody tr th:only-of-type {\n",
       "        vertical-align: middle;\n",
       "    }\n",
       "\n",
       "    .dataframe tbody tr th {\n",
       "        vertical-align: top;\n",
       "    }\n",
       "\n",
       "    .dataframe thead th {\n",
       "        text-align: right;\n",
       "    }\n",
       "</style>\n",
       "<table border=\"1\" class=\"dataframe\">\n",
       "  <thead>\n",
       "    <tr style=\"text-align: right;\">\n",
       "      <th></th>\n",
       "      <th>article_url</th>\n",
       "      <th>domain</th>\n",
       "    </tr>\n",
       "    <tr>\n",
       "      <th>incident_id</th>\n",
       "      <th></th>\n",
       "      <th></th>\n",
       "    </tr>\n",
       "  </thead>\n",
       "  <tbody>\n",
       "    <tr>\n",
       "      <th>1</th>\n",
       "      <td>https://globalnews.ca/news/3949365/b-c-woman-c...</td>\n",
       "      <td>globalnews.ca</td>\n",
       "    </tr>\n",
       "    <tr>\n",
       "      <th>2</th>\n",
       "      <td>https://www.cbc.ca/news/canada/windsor/graffit...</td>\n",
       "      <td>cbc.ca</td>\n",
       "    </tr>\n",
       "    <tr>\n",
       "      <th>3</th>\n",
       "      <td>https://nationalpost.com/news/politics/sen-lyn...</td>\n",
       "      <td>nationalpost.com</td>\n",
       "    </tr>\n",
       "    <tr>\n",
       "      <th>4</th>\n",
       "      <td>https://www.cbc.ca/news/canada/calgary/judge-e...</td>\n",
       "      <td>cbc.ca</td>\n",
       "    </tr>\n",
       "    <tr>\n",
       "      <th>5</th>\n",
       "      <td>http://nationalpost.com/news/canada/p-e-i-legi...</td>\n",
       "      <td>nationalpost.com</td>\n",
       "    </tr>\n",
       "  </tbody>\n",
       "</table>\n",
       "</div>"
      ],
      "text/plain": [
       "                                                   article_url  \\\n",
       "incident_id                                                      \n",
       "1            https://globalnews.ca/news/3949365/b-c-woman-c...   \n",
       "2            https://www.cbc.ca/news/canada/windsor/graffit...   \n",
       "3            https://nationalpost.com/news/politics/sen-lyn...   \n",
       "4            https://www.cbc.ca/news/canada/calgary/judge-e...   \n",
       "5            http://nationalpost.com/news/canada/p-e-i-legi...   \n",
       "\n",
       "                       domain  \n",
       "incident_id                    \n",
       "1               globalnews.ca  \n",
       "2                      cbc.ca  \n",
       "3            nationalpost.com  \n",
       "4                      cbc.ca  \n",
       "5            nationalpost.com  "
      ]
     },
     "execution_count": 7,
     "metadata": {},
     "output_type": "execute_result"
    }
   ],
   "source": [
    "urls = rr[['article_url']].copy()\n",
    "urls['domain'] = urls['article_url'].apply(extract_domain)\n",
    "urls.head()"
   ]
  },
  {
   "cell_type": "code",
   "execution_count": 8,
   "metadata": {},
   "outputs": [
    {
     "data": {
      "text/plain": [
       "cbc.ca                      339\n",
       "globalnews.ca                90\n",
       "ctvnews.ca                   89\n",
       "thestar.com                  27\n",
       "huffingtonpost.ca            26\n",
       "                           ... \n",
       "americanbazaaronline.com      1\n",
       "blogto.com                    1\n",
       "thinkpol.ca                   1\n",
       "jta.org                       1\n",
       "worldbulletin.net             1\n",
       "Name: domain, Length: 161, dtype: int64"
      ]
     },
     "execution_count": 8,
     "metadata": {},
     "output_type": "execute_result"
    }
   ],
   "source": [
    "counts = urls['domain'].value_counts()\n",
    "counts"
   ]
  },
  {
   "cell_type": "code",
   "execution_count": 9,
   "metadata": {},
   "outputs": [
    {
     "data": {
      "text/plain": [
       "cbc.ca                   339\n",
       "globalnews.ca             90\n",
       "ctvnews.ca                89\n",
       "thestar.com               27\n",
       "huffingtonpost.ca         26\n",
       "theglobeandmail.com       26\n",
       "nationalpost.com          25\n",
       "canada.com                14\n",
       "citynews1130.com          14\n",
       "vice.com                  12\n",
       "citynews.ca               11\n",
       "thechronicleherald.ca     11\n",
       "cjnews.com                11\n",
       "straight.com              11\n",
       "calgaryherald.com         10\n",
       "Name: domain, dtype: int64"
      ]
     },
     "execution_count": 9,
     "metadata": {},
     "output_type": "execute_result"
    }
   ],
   "source": [
    "counts[counts >= 10]"
   ]
  },
  {
   "cell_type": "markdown",
   "metadata": {},
   "source": [
    "### Data cleaning functions"
   ]
  },
  {
   "cell_type": "code",
   "execution_count": 10,
   "metadata": {},
   "outputs": [],
   "source": [
    "def split_explode(series_in, split_comma=True, na_fill='n/a', lowercase=True):\n",
    "    \"\"\"Split strings containing multiple tags into their separate values and explode into separate rows\"\"\"\n",
    "    \n",
    "    # Remove outer white space and replace various split delimiters with one consistent delimiter \";\"\n",
    "    series_out = (series_in.str.strip()\n",
    "                  .str.replace('/', ';')\n",
    "                  .str.replace('\\n', ';')\n",
    "                 )\n",
    "    \n",
    "    if split_comma:\n",
    "        series_out = series_out.str.replace(',', ';')\n",
    "        \n",
    "    if lowercase:\n",
    "        series_out = series_out.str.lower()\n",
    "        \n",
    "    if na_fill is not None:\n",
    "        series_out = series_out.fillna(na_fill)\n",
    "        \n",
    "    # Separate tags and strip white space\n",
    "    series_out = (series_out.str.split(';')\n",
    "                  .explode()\n",
    "                  .str.strip()\n",
    "                 )\n",
    "    \n",
    "    # Remove any rows containing only an empty string\n",
    "    empty = series_out == ''\n",
    "        \n",
    "    return series_out"
   ]
  },
  {
   "cell_type": "markdown",
   "metadata": {},
   "source": [
    "### Locations"
   ]
  },
  {
   "cell_type": "code",
   "execution_count": 11,
   "metadata": {},
   "outputs": [
    {
     "name": "stdout",
     "output_type": "stream",
     "text": [
      "1011\n"
     ]
    },
    {
     "data": {
      "text/plain": [
       "incident_id\n",
       "1    Burnaby\n",
       "2    Windsor\n",
       "3     Ottawa\n",
       "4    Calgary\n",
       "5    Tignish\n",
       "Name: location, dtype: object"
      ]
     },
     "execution_count": 11,
     "metadata": {},
     "output_type": "execute_result"
    }
   ],
   "source": [
    "# Tags identifying the location of each incident\n",
    "locations = (rr['location'].str.replace('Ontario', 'ON')\n",
    "             .str.replace('\\(ON\\)', ', ON')\n",
    "             .str.replace('Alberta', 'AB')\n",
    "             .str.replace('Quebec', 'QC')\n",
    "             .str.replace('N.S.', 'NS')\n",
    "             .str.replace('Edmonton, Calgary, Vancouver', 'Edmonton; Calgary; Vancouver')\n",
    "             .str.replace('Edmonton, Ottawa', 'Edmonton; Ottawa')\n",
    "             .str.replace('Vancouver , Edmonton , Lethbridge', 'Vancouver; Edmonton; Lethbridge')\n",
    "             .pipe(split_explode, split_comma=False, lowercase=False)\n",
    "            )\n",
    "\n",
    "print(len(locations))\n",
    "locations.head()"
   ]
  },
  {
   "cell_type": "code",
   "execution_count": 12,
   "metadata": {},
   "outputs": [
    {
     "name": "stdout",
     "output_type": "stream",
     "text": [
      "213\n"
     ]
    },
    {
     "data": {
      "text/plain": [
       "Ottawa              93\n",
       "Toronto             90\n",
       "Montreal            73\n",
       "Vancouver           61\n",
       "National            53\n",
       "                    ..\n",
       "Yarmouth, NS         1\n",
       "Mount Polley         1\n",
       "Georgina             1\n",
       "Nunavut              1\n",
       "Fraser River, BC     1\n",
       "Name: location, Length: 213, dtype: int64"
      ]
     },
     "execution_count": 12,
     "metadata": {},
     "output_type": "execute_result"
    }
   ],
   "source": [
    "# Summarize unique tags and incident counts\n",
    "location_counts = locations.value_counts()\n",
    "print(len(location_counts))\n",
    "location_counts"
   ]
  },
  {
   "cell_type": "code",
   "execution_count": 13,
   "metadata": {},
   "outputs": [
    {
     "data": {
      "text/plain": [
       "Ottawa                                     93\n",
       "Toronto                                    90\n",
       "Montreal                                   73\n",
       "Vancouver                                  61\n",
       "National                                   53\n",
       "Edmonton                                   45\n",
       "Calgary                                    43\n",
       "Winnipeg                                   36\n",
       "Halifax                                    31\n",
       "QC                                         24\n",
       "Hamilton                                   18\n",
       "ON                                         17\n",
       "Mississauga                                16\n",
       "Nova Scotia                                14\n",
       "Regina                                     12\n",
       "Peterborough                               11\n",
       "London                                     10\n",
       "Thunder Bay                                10\n",
       "Burnaby                                     9\n",
       "Surrey                                      9\n",
       "Victoria                                    8\n",
       "British Columbia                            8\n",
       "Saskatoon                                   8\n",
       "Waterloo                                    7\n",
       "Brampton                                    7\n",
       "Windsor                                     6\n",
       "St. John's                                  6\n",
       "Kamloops                                    6\n",
       "Coquitlam                                   6\n",
       "AB                                          5\n",
       "Kingston                                    5\n",
       "Richmond                                    5\n",
       "Fort McMurray                               5\n",
       "York                                        5\n",
       "Kelowna                                     5\n",
       "QC City                                     4\n",
       "Peel District, ON                           4\n",
       "Medicine Hat                                4\n",
       "Guelph                                      4\n",
       "Manitoba                                    4\n",
       "Peel, ON                                    4\n",
       "Sudbury                                     4\n",
       "Gatineau                                    3\n",
       "BC                                          3\n",
       "Unknown                                     3\n",
       "Burlington                                  3\n",
       "Red Deer                                    3\n",
       "Thunderbay                                  3\n",
       "Saskatchewan                                3\n",
       "Laval                                       2\n",
       "New Brunswick                               2\n",
       "Granby, QC                                  2\n",
       "Wet’suwet’en                                2\n",
       "Port Alberni                                2\n",
       "Chilliwack, BC                              2\n",
       "Charlottetown                               2\n",
       "New Westminster, BC                         2\n",
       "Brooks                                      2\n",
       "Nanaimo                                     2\n",
       "Prince George                               2\n",
       "Timmins                                     2\n",
       "Edson                                       2\n",
       "Whycocomagh                                 2\n",
       "Windsor, NS                                 2\n",
       "Cape Breton                                 2\n",
       "Dartmouth, NS                               2\n",
       "St. Albert, AB                              2\n",
       "New Bruinswick                              2\n",
       "Statford                                    2\n",
       "Newmarket, ON                               2\n",
       "Longueuil, QC                               2\n",
       "Yellowknife                                 2\n",
       "Niagra                                      2\n",
       "Lethbridge                                  2\n",
       "Cornwall                                    2\n",
       "Saanich, BC                                 2\n",
       "Fredericton                                 2\n",
       "Prince Albert                               2\n",
       "North Bay                                   2\n",
       "Happy Valley-Goose Bay                      2\n",
       "Saint-Jérôme                                1\n",
       "Whistler                                    1\n",
       "Cambridge                                   1\n",
       "Whitby, ON                                  1\n",
       "High River                                  1\n",
       "Penticton                                   1\n",
       "Iqaluit                                     1\n",
       "Thompson, MB                                1\n",
       "Moncton                                     1\n",
       "Saint John                                  1\n",
       "Levis                                       1\n",
       "Newfoundland and Labrador                   1\n",
       "Keeseekoowenin Ojibway First Nation, MB     1\n",
       "North Fraser                                1\n",
       "Scarborough                                 1\n",
       "Merritt                                     1\n",
       "Strathmore                                  1\n",
       "M'Chigeeng, BC                              1\n",
       "Owen Sound, ON                              1\n",
       "Coquitlam, BC                               1\n",
       "Name: location, dtype: int64"
      ]
     },
     "execution_count": 13,
     "metadata": {},
     "output_type": "execute_result"
    }
   ],
   "source": [
    "location_counts.head(100)"
   ]
  },
  {
   "cell_type": "code",
   "execution_count": 14,
   "metadata": {},
   "outputs": [
    {
     "data": {
      "text/plain": [
       " ON    21\n",
       " BC    17\n",
       " NS    12\n",
       " QC     7\n",
       " AB     5\n",
       " MB     4\n",
       " NL     2\n",
       " SK     1\n",
       "Name: location, dtype: int64"
      ]
     },
     "execution_count": 14,
     "metadata": {},
     "output_type": "execute_result"
    }
   ],
   "source": [
    "# Check the province values in tags that are in the form \"city, province\"\n",
    "locations.str.split(',').str[1].value_counts()"
   ]
  },
  {
   "cell_type": "code",
   "execution_count": 15,
   "metadata": {},
   "outputs": [
    {
     "data": {
      "text/html": [
       "<div>\n",
       "<style scoped>\n",
       "    .dataframe tbody tr th:only-of-type {\n",
       "        vertical-align: middle;\n",
       "    }\n",
       "\n",
       "    .dataframe tbody tr th {\n",
       "        vertical-align: top;\n",
       "    }\n",
       "\n",
       "    .dataframe thead th {\n",
       "        text-align: right;\n",
       "    }\n",
       "</style>\n",
       "<table border=\"1\" class=\"dataframe\">\n",
       "  <thead>\n",
       "    <tr style=\"text-align: right;\">\n",
       "      <th></th>\n",
       "      <th>Locations per Incident</th>\n",
       "      <th>Number of Incidents</th>\n",
       "    </tr>\n",
       "  </thead>\n",
       "  <tbody>\n",
       "    <tr>\n",
       "      <th>0</th>\n",
       "      <td>1</td>\n",
       "      <td>994</td>\n",
       "    </tr>\n",
       "    <tr>\n",
       "      <th>1</th>\n",
       "      <td>2</td>\n",
       "      <td>3</td>\n",
       "    </tr>\n",
       "    <tr>\n",
       "      <th>2</th>\n",
       "      <td>3</td>\n",
       "      <td>2</td>\n",
       "    </tr>\n",
       "    <tr>\n",
       "      <th>3</th>\n",
       "      <td>5</td>\n",
       "      <td>1</td>\n",
       "    </tr>\n",
       "  </tbody>\n",
       "</table>\n",
       "</div>"
      ],
      "text/plain": [
       "   Locations per Incident  Number of Incidents\n",
       "0                       1                  994\n",
       "1                       2                    3\n",
       "2                       3                    2\n",
       "3                       5                    1"
      ]
     },
     "execution_count": 15,
     "metadata": {},
     "output_type": "execute_result"
    }
   ],
   "source": [
    "# Number of locations per incident\n",
    "(locations.reset_index()\n",
    " .groupby('incident_id')\n",
    " .size()\n",
    " .value_counts()\n",
    " .reset_index()\n",
    " .rename({'index' : 'Locations per Incident', 0 : 'Number of Incidents'}, axis=1)\n",
    ")"
   ]
  },
  {
   "cell_type": "code",
   "execution_count": 16,
   "metadata": {},
   "outputs": [
    {
     "data": {
      "text/plain": [
       "Fredericton     2\n",
       "Frederickton    1\n",
       "Fredricton      1\n",
       "Name: location, dtype: int64"
      ]
     },
     "execution_count": 16,
     "metadata": {},
     "output_type": "execute_result"
    }
   ],
   "source": [
    "locations[locations.str.startswith('Fred')].value_counts()"
   ]
  },
  {
   "cell_type": "code",
   "execution_count": 17,
   "metadata": {},
   "outputs": [
    {
     "data": {
      "text/plain": [
       "Winnipeg    36\n",
       "Winnepeg     1\n",
       "Name: location, dtype: int64"
      ]
     },
     "execution_count": 17,
     "metadata": {},
     "output_type": "execute_result"
    }
   ],
   "source": [
    "locations[locations.str.startswith('Winn')].value_counts()"
   ]
  },
  {
   "cell_type": "code",
   "execution_count": 18,
   "metadata": {},
   "outputs": [
    {
     "data": {
      "text/html": [
       "<div>\n",
       "<style scoped>\n",
       "    .dataframe tbody tr th:only-of-type {\n",
       "        vertical-align: middle;\n",
       "    }\n",
       "\n",
       "    .dataframe tbody tr th {\n",
       "        vertical-align: top;\n",
       "    }\n",
       "\n",
       "    .dataframe thead th {\n",
       "        text-align: right;\n",
       "    }\n",
       "</style>\n",
       "<table border=\"1\" class=\"dataframe\">\n",
       "  <thead>\n",
       "    <tr style=\"text-align: right;\">\n",
       "      <th></th>\n",
       "      <th>date</th>\n",
       "      <th>location</th>\n",
       "      <th>category</th>\n",
       "      <th>sub_category</th>\n",
       "      <th>target_community</th>\n",
       "      <th>description</th>\n",
       "      <th>article_url</th>\n",
       "      <th>year</th>\n",
       "      <th>orig_sheet_name</th>\n",
       "      <th>orig_row_num</th>\n",
       "    </tr>\n",
       "    <tr>\n",
       "      <th>incident_id</th>\n",
       "      <th></th>\n",
       "      <th></th>\n",
       "      <th></th>\n",
       "      <th></th>\n",
       "      <th></th>\n",
       "      <th></th>\n",
       "      <th></th>\n",
       "      <th></th>\n",
       "      <th></th>\n",
       "      <th></th>\n",
       "    </tr>\n",
       "  </thead>\n",
       "  <tbody>\n",
       "    <tr>\n",
       "      <th>837</th>\n",
       "      <td>2020-03-28</td>\n",
       "      <td>Unknown</td>\n",
       "      <td>NC</td>\n",
       "      <td>hate speech</td>\n",
       "      <td>anti-immigrant ; sexist</td>\n",
       "      <td>Online press conference highlighting Laval imm...</td>\n",
       "      <td>https://www.halifaxexaminer.ca/featured/toxify...</td>\n",
       "      <td>2020.0</td>\n",
       "      <td>2020 collection</td>\n",
       "      <td>98</td>\n",
       "    </tr>\n",
       "    <tr>\n",
       "      <th>838</th>\n",
       "      <td>2020-03-29</td>\n",
       "      <td>Unknown</td>\n",
       "      <td>NC</td>\n",
       "      <td>hate speech</td>\n",
       "      <td>anti-black ; homophobia</td>\n",
       "      <td>Webinar on COVID-19 and the future of public t...</td>\n",
       "      <td>https://www.halifaxexaminer.ca/featured/toxify...</td>\n",
       "      <td>2020.0</td>\n",
       "      <td>2020 collection</td>\n",
       "      <td>99</td>\n",
       "    </tr>\n",
       "    <tr>\n",
       "      <th>840</th>\n",
       "      <td>2020-04-03</td>\n",
       "      <td>Unknown</td>\n",
       "      <td>NC</td>\n",
       "      <td>hate speech</td>\n",
       "      <td>anti-black</td>\n",
       "      <td>Virtual town hall held by YWCA Canada is zoomb...</td>\n",
       "      <td>https://www.cbc.ca/news/technology/zoombombing...</td>\n",
       "      <td>2020.0</td>\n",
       "      <td>2020 collection</td>\n",
       "      <td>101</td>\n",
       "    </tr>\n",
       "  </tbody>\n",
       "</table>\n",
       "</div>"
      ],
      "text/plain": [
       "                  date location category sub_category  \\\n",
       "incident_id                                             \n",
       "837         2020-03-28  Unknown       NC  hate speech   \n",
       "838         2020-03-29  Unknown       NC  hate speech   \n",
       "840         2020-04-03  Unknown       NC  hate speech   \n",
       "\n",
       "                    target_community  \\\n",
       "incident_id                            \n",
       "837          anti-immigrant ; sexist   \n",
       "838          anti-black ; homophobia   \n",
       "840                       anti-black   \n",
       "\n",
       "                                                   description  \\\n",
       "incident_id                                                      \n",
       "837          Online press conference highlighting Laval imm...   \n",
       "838          Webinar on COVID-19 and the future of public t...   \n",
       "840          Virtual town hall held by YWCA Canada is zoomb...   \n",
       "\n",
       "                                                   article_url    year  \\\n",
       "incident_id                                                              \n",
       "837          https://www.halifaxexaminer.ca/featured/toxify...  2020.0   \n",
       "838          https://www.halifaxexaminer.ca/featured/toxify...  2020.0   \n",
       "840          https://www.cbc.ca/news/technology/zoombombing...  2020.0   \n",
       "\n",
       "             orig_sheet_name  orig_row_num  \n",
       "incident_id                                 \n",
       "837          2020 collection            98  \n",
       "838          2020 collection            99  \n",
       "840          2020 collection           101  "
      ]
     },
     "execution_count": 18,
     "metadata": {},
     "output_type": "execute_result"
    }
   ],
   "source": [
    "rr[rr['location'] == 'Unknown']"
   ]
  },
  {
   "cell_type": "markdown",
   "metadata": {},
   "source": [
    "### Target communities"
   ]
  },
  {
   "cell_type": "code",
   "execution_count": 19,
   "metadata": {},
   "outputs": [
    {
     "name": "stdout",
     "output_type": "stream",
     "text": [
      "1207\n"
     ]
    },
    {
     "data": {
      "text/plain": [
       "incident_id\n",
       "1         anti-black\n",
       "2        anti-muslim\n",
       "3    anti-indigenous\n",
       "4         anti-black\n",
       "5          anti-sikh\n",
       "Name: target_community, dtype: object"
      ]
     },
     "execution_count": 19,
     "metadata": {},
     "output_type": "execute_result"
    }
   ],
   "source": [
    "# Tags identifying the different target communities for each incident\n",
    "targets = (split_explode(rr['target_community'].str.replace(' - ', ';'))\n",
    "           .str.replace('ant-', 'anti-')\n",
    "           .str.replace('ani-', 'anti-')\n",
    "           .str.replace('anti ', 'anti-')\n",
    "           .str.replace('immigrant', 'immigration')\n",
    "           .str.replace('muslims', 'muslim')\n",
    "           .str.replace('muslilm', 'muslim')\n",
    "           .str.replace('semetic', 'semitic')\n",
    "           .replace('anti-semitism', 'anti-semitic')\n",
    "           .replace('white supremacist', 'white supremacists')\n",
    "           .replace('white supremasists', 'white supremacists')\n",
    "           .replace('white-supremacist', 'white supremacists')\n",
    "           .replace('white supremacy', 'white supremacists')\n",
    "           .replace('gender', 'gendered')\n",
    "           .replace('homophobic', 'homophobia')\n",
    "           .replace('indian', 'anti-indian')\n",
    "           .replace('not specified', 'n/a')\n",
    "           .replace('not identified', 'n/a')\n",
    "           .replace('lgbtq2s+', 'anti-lgbtq2s+')\n",
    "           .replace('lgbtq2+', 'anti-lgbtq2s+')\n",
    "           .replace('anti-lbtq2s+', 'anti-lgbtq2s+')\n",
    "           .replace('other', 'n/a')\n",
    "          )\n",
    "\n",
    "print(len(targets))\n",
    "targets.head()"
   ]
  },
  {
   "cell_type": "code",
   "execution_count": 20,
   "metadata": {},
   "outputs": [
    {
     "name": "stdout",
     "output_type": "stream",
     "text": [
      "40\n"
     ]
    },
    {
     "data": {
      "text/plain": [
       "anti-black              225\n",
       "anti-indigenous         193\n",
       "anti-muslim             131\n",
       "anti-racism             129\n",
       "anti-semitic             96\n",
       "white supremacists       89\n",
       "anti-immigration         76\n",
       "anti-asian               56\n",
       "n/a                      55\n",
       "anti-chinese             28\n",
       "anti-sikh                21\n",
       "anti-indian              19\n",
       "gendered                 14\n",
       "anti-arab                10\n",
       "anti-poc                  9\n",
       "homophobia                8\n",
       "anti-lgbtq2s+             8\n",
       "anti-south asian          5\n",
       "sexist                    5\n",
       "anti-filipino             4\n",
       "anti-palestinian          3\n",
       "anti-afghan               2\n",
       "race relations            2\n",
       "anti-francophone          2\n",
       "anti-iranian              2\n",
       "anti-african              1\n",
       "anti-taiwanese            1\n",
       "anti-israel               1\n",
       "anti-white                1\n",
       "anti-mexican              1\n",
       "anti-syrian               1\n",
       "anti-middle eastern       1\n",
       "anti-discrimination       1\n",
       "anti-christian            1\n",
       "environmental racism      1\n",
       "anti-islam                1\n",
       "transphobia               1\n",
       "anti-latin                1\n",
       "anti-pakistani            1\n",
       "other (antifa)            1\n",
       "Name: target_community, dtype: int64"
      ]
     },
     "execution_count": 20,
     "metadata": {},
     "output_type": "execute_result"
    }
   ],
   "source": [
    "# Summarize the unique tags and their incident counts\n",
    "target_counts = targets.value_counts()\n",
    "print(len(target_counts))\n",
    "target_counts"
   ]
  },
  {
   "cell_type": "markdown",
   "metadata": {},
   "source": [
    "### Incident categories"
   ]
  },
  {
   "cell_type": "code",
   "execution_count": 21,
   "metadata": {},
   "outputs": [
    {
     "name": "stdout",
     "output_type": "stream",
     "text": [
      "1002\n"
     ]
    },
    {
     "data": {
      "text/plain": [
       "incident_id\n",
       "1    nc\n",
       "2    nc\n",
       "3    nc\n",
       "4    nc\n",
       "5    nc\n",
       "Name: category, dtype: object"
      ]
     },
     "execution_count": 21,
     "metadata": {},
     "output_type": "execute_result"
    }
   ],
   "source": [
    "# Tags identifying the category of each incident\n",
    "categories = (split_explode(rr['category'])\n",
    "              .replace('unknown', 'n/a')\n",
    "              .replace('other', 'n/a')\n",
    "              .replace('not specified', 'n/a')\n",
    "              .replace('bc', 'n/a')\n",
    "              .replace('class action', 'class action lawsuit')\n",
    "             )\n",
    "print(len(categories))\n",
    "categories.head()"
   ]
  },
  {
   "cell_type": "code",
   "execution_count": 22,
   "metadata": {},
   "outputs": [
    {
     "name": "stdout",
     "output_type": "stream",
     "text": [
      "43\n"
     ]
    },
    {
     "data": {
      "text/plain": [
       "nc                                                                     638\n",
       "police investigation                                                    93\n",
       "c                                                                       89\n",
       "hr investigation                                                        50\n",
       "investigation                                                           38\n",
       "human rights                                                            14\n",
       "military investigation                                                  10\n",
       "n/a                                                                     10\n",
       "lawsuit                                                                  8\n",
       "human rights complaint                                                   4\n",
       "human rights tribunal                                                    4\n",
       "political campaign                                                       4\n",
       "political                                                                3\n",
       "pending litigation                                                       2\n",
       "class action lawsuit                                                     2\n",
       "rcmp investigation                                                       2\n",
       "police complaint                                                         2\n",
       "pending lawsuit                                                          2\n",
       "nc investigation                                                         2\n",
       "human rights tribunal of ontario                                         2\n",
       "internal investigation                                                   1\n",
       "legal action                                                             1\n",
       "c (pending charge)                                                       1\n",
       "c (however victim didn’t file a charge)                                  1\n",
       "c - not charged                                                          1\n",
       "settlement                                                               1\n",
       "ndp employee says hamilton mpp bullied him and made racist comments      1\n",
       "appeal court decision                                                    1\n",
       "rally                                                                    1\n",
       "court case                                                               1\n",
       "legislation                                                              1\n",
       "open investigation                                                       1\n",
       "public hearing                                                           1\n",
       "inquiry                                                                  1\n",
       "c (quebec human rights and youth rights commission)                      1\n",
       "complaint police ethics board                                            1\n",
       "law                                                                      1\n",
       "allegations against police                                               1\n",
       "violates international law (un)                                          1\n",
       "c (charged with mischief and causing disturbance)                        1\n",
       "human rights case                                                        1\n",
       "quebec human rights commission                                           1\n",
       "disciplinary hearing                                                     1\n",
       "Name: category, dtype: int64"
      ]
     },
     "execution_count": 22,
     "metadata": {},
     "output_type": "execute_result"
    }
   ],
   "source": [
    "# Summarize the unique tags and their incident counts\n",
    "category_counts = categories.value_counts()\n",
    "print(len(category_counts))\n",
    "category_counts"
   ]
  },
  {
   "cell_type": "markdown",
   "metadata": {},
   "source": [
    "It looks like the province \"BC\" may have been mistakenly duplicated in the \"category\" column for this incident, perhaps a typo for \"NC\"?"
   ]
  },
  {
   "cell_type": "markdown",
   "metadata": {},
   "source": [
    "### Sub-categories"
   ]
  },
  {
   "cell_type": "code",
   "execution_count": 23,
   "metadata": {},
   "outputs": [
    {
     "name": "stdout",
     "output_type": "stream",
     "text": [
      "1164\n"
     ]
    },
    {
     "data": {
      "text/plain": [
       "incident_id\n",
       "1                  hate speech\n",
       "2                    vandalism\n",
       "3                  hate speech\n",
       "4                  hate speech\n",
       "5                   harassment\n",
       "                 ...          \n",
       "996                 hate crime\n",
       "997                hate speech\n",
       "998                   profiled\n",
       "999     discrimination at work\n",
       "1000                 political\n",
       "Name: sub_category, Length: 1164, dtype: object"
      ]
     },
     "execution_count": 23,
     "metadata": {},
     "output_type": "execute_result"
    }
   ],
   "source": [
    "# Tags identifying the sub-categories of each incident\n",
    "sub_cats = (split_explode(rr['sub_category'])\n",
    "            .replace('poltical', 'political')\n",
    "            .replace('politcal', 'political')\n",
    "            .replace('harrassment', 'harassment')\n",
    "            .replace('assualt', 'assault')\n",
    "            .replace('race realtions', 'race relations')\n",
    "            .replace('hate seech', 'hate speech')\n",
    "            .str.replace('racits', 'racist')\n",
    "            .str.replace('alligation', 'allegation')\n",
    "            .str.replace('discrimintation', 'discrimination')\n",
    "            .str.replace('law suit', 'lawsuit')\n",
    "            .replace('other', 'n/a')\n",
    "           )\n",
    "print(len(sub_cats))\n",
    "sub_cats"
   ]
  },
  {
   "cell_type": "code",
   "execution_count": 24,
   "metadata": {},
   "outputs": [
    {
     "name": "stdout",
     "output_type": "stream",
     "text": [
      "44\n"
     ]
    },
    {
     "data": {
      "text/plain": [
       "race relations                                                                                242\n",
       "hate speech                                                                                   236\n",
       "political                                                                                     175\n",
       "vandalism                                                                                      90\n",
       "profiled                                                                                       65\n",
       "hate crime                                                                                     53\n",
       "human rights                                                                                   49\n",
       "discrimination at work                                                                         47\n",
       "harassment                                                                                     38\n",
       "n/a                                                                                            37\n",
       "protest                                                                                        37\n",
       "allegations                                                                                    23\n",
       "policy                                                                                          9\n",
       "rally                                                                                           9\n",
       "hr complaint                                                                                    7\n",
       "assault                                                                                         7\n",
       "public hearing                                                                                  4\n",
       "race relations rally                                                                            3\n",
       "discrimination                                                                                  3\n",
       "murder                                                                                          2\n",
       "defamation                                                                                      2\n",
       "cultural appropriation                                                                          2\n",
       "law                                                                                             2\n",
       "racial profiling                                                                                2\n",
       "human rights complaint                                                                          1\n",
       "constitutional challenge                                                                        1\n",
       "human rights tribunal                                                                           1\n",
       "threats                                                                                         1\n",
       "intellectual property                                                                           1\n",
       "first degree murder                                                                             1\n",
       "forgery charges                                                                                 1\n",
       "hate event                                                                                      1\n",
       "violates international convention on the elimination of all forms of racial discrimination      1\n",
       "racial training                                                                                 1\n",
       "peace bond                                                                                      1\n",
       "hate speech (branding)                                                                          1\n",
       "hate crime (assault)                                                                            1\n",
       "class action lawsuit                                                                            1\n",
       "terror                                                                                          1\n",
       "robbery                                                                                         1\n",
       "environmental racism                                                                            1\n",
       "arson                                                                                           1\n",
       "racial allegations                                                                              1\n",
       "false allegations of being a victim of racist threats                                           1\n",
       "Name: sub_category, dtype: int64"
      ]
     },
     "execution_count": 24,
     "metadata": {},
     "output_type": "execute_result"
    }
   ],
   "source": [
    "# Summarize unique tags and their incident counts\n",
    "sub_cats_counts = sub_cats.value_counts()\n",
    "print(len(sub_cats_counts))\n",
    "sub_cats_counts"
   ]
  },
  {
   "cell_type": "markdown",
   "metadata": {},
   "source": [
    "### Consolidate tags to apply taxonomy"
   ]
  },
  {
   "cell_type": "code",
   "execution_count": 25,
   "metadata": {},
   "outputs": [
    {
     "data": {
      "text/html": [
       "<div>\n",
       "<style scoped>\n",
       "    .dataframe tbody tr th:only-of-type {\n",
       "        vertical-align: middle;\n",
       "    }\n",
       "\n",
       "    .dataframe tbody tr th {\n",
       "        vertical-align: top;\n",
       "    }\n",
       "\n",
       "    .dataframe thead th {\n",
       "        text-align: right;\n",
       "    }\n",
       "</style>\n",
       "<table border=\"1\" class=\"dataframe\">\n",
       "  <thead>\n",
       "    <tr style=\"text-align: right;\">\n",
       "      <th></th>\n",
       "      <th>incident_id</th>\n",
       "      <th>variable</th>\n",
       "      <th>tag</th>\n",
       "    </tr>\n",
       "  </thead>\n",
       "  <tbody>\n",
       "    <tr>\n",
       "      <th>0</th>\n",
       "      <td>1</td>\n",
       "      <td>target_community</td>\n",
       "      <td>anti-black</td>\n",
       "    </tr>\n",
       "    <tr>\n",
       "      <th>1</th>\n",
       "      <td>1</td>\n",
       "      <td>sub_category</td>\n",
       "      <td>hate speech</td>\n",
       "    </tr>\n",
       "    <tr>\n",
       "      <th>2</th>\n",
       "      <td>2</td>\n",
       "      <td>target_community</td>\n",
       "      <td>anti-muslim</td>\n",
       "    </tr>\n",
       "    <tr>\n",
       "      <th>3</th>\n",
       "      <td>2</td>\n",
       "      <td>sub_category</td>\n",
       "      <td>vandalism</td>\n",
       "    </tr>\n",
       "    <tr>\n",
       "      <th>4</th>\n",
       "      <td>3</td>\n",
       "      <td>target_community</td>\n",
       "      <td>anti-indigenous</td>\n",
       "    </tr>\n",
       "    <tr>\n",
       "      <th>...</th>\n",
       "      <td>...</td>\n",
       "      <td>...</td>\n",
       "      <td>...</td>\n",
       "    </tr>\n",
       "    <tr>\n",
       "      <th>2537</th>\n",
       "      <td>999</td>\n",
       "      <td>target_community</td>\n",
       "      <td>anti-immigration</td>\n",
       "    </tr>\n",
       "    <tr>\n",
       "      <th>2538</th>\n",
       "      <td>999</td>\n",
       "      <td>sub_category</td>\n",
       "      <td>discrimination at work</td>\n",
       "    </tr>\n",
       "    <tr>\n",
       "      <th>2539</th>\n",
       "      <td>999</td>\n",
       "      <td>category</td>\n",
       "      <td>hr investigation</td>\n",
       "    </tr>\n",
       "    <tr>\n",
       "      <th>2540</th>\n",
       "      <td>1000</td>\n",
       "      <td>target_community</td>\n",
       "      <td>white supremacists</td>\n",
       "    </tr>\n",
       "    <tr>\n",
       "      <th>2541</th>\n",
       "      <td>1000</td>\n",
       "      <td>sub_category</td>\n",
       "      <td>political</td>\n",
       "    </tr>\n",
       "  </tbody>\n",
       "</table>\n",
       "<p>2542 rows × 3 columns</p>\n",
       "</div>"
      ],
      "text/plain": [
       "      incident_id          variable                     tag\n",
       "0               1  target_community              anti-black\n",
       "1               1      sub_category             hate speech\n",
       "2               2  target_community             anti-muslim\n",
       "3               2      sub_category               vandalism\n",
       "4               3  target_community         anti-indigenous\n",
       "...           ...               ...                     ...\n",
       "2537          999  target_community        anti-immigration\n",
       "2538          999      sub_category  discrimination at work\n",
       "2539          999          category        hr investigation\n",
       "2540         1000  target_community      white supremacists\n",
       "2541         1000      sub_category               political\n",
       "\n",
       "[2542 rows x 3 columns]"
      ]
     },
     "execution_count": 25,
     "metadata": {},
     "output_type": "execute_result"
    }
   ],
   "source": [
    "tags = categories[~categories.isin(['c', 'nc'])].str.replace('c - ', '')\n",
    "idx = tags.str.startswith('c (').fillna(False)\n",
    "tags.loc[idx] = tags.loc[idx].str.replace('c \\(', '').str.replace('\\)', '')\n",
    "\n",
    "tags = (tags.to_frame()\n",
    "        .join(sub_cats.to_frame(), how='outer')\n",
    "        .join(targets.to_frame(), how='outer')\n",
    "        .reset_index(drop=False)\n",
    "        .melt(id_vars='incident_id', value_name='tag')\n",
    "        .replace({'tag' : {'n/a' : np.nan}})\n",
    "        .dropna(subset=['tag'])\n",
    "        .sort_values(['incident_id', 'variable'], ascending=[True, False])\n",
    "        .drop_duplicates()\n",
    "       )\n",
    "\n",
    "# Drop some long descriptions that should have been in the incident descriptions instead of tags\n",
    "idx_drop = tags['tag'].str.startswith('ndp employee says') | tags['tag'].str.startswith('violates international convention')\n",
    "tags = tags.drop(tags[idx_drop].index).reset_index(drop=True)\n",
    "tags"
   ]
  },
  {
   "cell_type": "code",
   "execution_count": 26,
   "metadata": {},
   "outputs": [
    {
     "data": {
      "text/plain": [
       "allegations                                               23\n",
       "allegations against police                                 1\n",
       "anti-afghan                                                2\n",
       "anti-african                                               1\n",
       "anti-arab                                                 10\n",
       "anti-asian                                                56\n",
       "anti-black                                               225\n",
       "anti-chinese                                              28\n",
       "anti-christian                                             1\n",
       "anti-discrimination                                        1\n",
       "anti-filipino                                              4\n",
       "anti-francophone                                           2\n",
       "anti-immigration                                          76\n",
       "anti-indian                                               19\n",
       "anti-indigenous                                          193\n",
       "anti-iranian                                               2\n",
       "anti-islam                                                 1\n",
       "anti-israel                                                1\n",
       "anti-latin                                                 1\n",
       "anti-lgbtq2s+                                              8\n",
       "anti-mexican                                               1\n",
       "anti-middle eastern                                        1\n",
       "anti-muslim                                              131\n",
       "anti-pakistani                                             1\n",
       "anti-palestinian                                           3\n",
       "anti-poc                                                   9\n",
       "anti-racism                                              129\n",
       "anti-semitic                                              96\n",
       "anti-sikh                                                 21\n",
       "anti-south asian                                           5\n",
       "anti-syrian                                                1\n",
       "anti-taiwanese                                             1\n",
       "anti-white                                                 1\n",
       "appeal court decision                                      1\n",
       "arson                                                      1\n",
       "assault                                                    7\n",
       "charged with mischief and causing disturbance              1\n",
       "class action lawsuit                                       3\n",
       "complaint police ethics board                              1\n",
       "constitutional challenge                                   1\n",
       "court case                                                 1\n",
       "cultural appropriation                                     2\n",
       "defamation                                                 2\n",
       "disciplinary hearing                                       1\n",
       "discrimination                                             3\n",
       "discrimination at work                                    47\n",
       "environmental racism                                       2\n",
       "false allegations of being a victim of racist threats      1\n",
       "first degree murder                                        1\n",
       "forgery charges                                            1\n",
       "gendered                                                  14\n",
       "harassment                                                38\n",
       "hate crime                                                53\n",
       "hate crime (assault)                                       1\n",
       "hate event                                                 1\n",
       "hate speech                                              236\n",
       "hate speech (branding)                                     1\n",
       "homophobia                                                 8\n",
       "however victim didn’t file a charge                        1\n",
       "hr complaint                                               7\n",
       "hr investigation                                          50\n",
       "human rights                                              63\n",
       "human rights case                                          1\n",
       "human rights complaint                                     5\n",
       "human rights tribunal                                      5\n",
       "human rights tribunal of ontario                           2\n",
       "inquiry                                                    1\n",
       "intellectual property                                      1\n",
       "internal investigation                                     1\n",
       "investigation                                             38\n",
       "law                                                        3\n",
       "lawsuit                                                    8\n",
       "legal action                                               1\n",
       "legislation                                                1\n",
       "military investigation                                    10\n",
       "murder                                                     2\n",
       "nc investigation                                           2\n",
       "not charged                                                1\n",
       "open investigation                                         1\n",
       "other (antifa)                                             1\n",
       "peace bond                                                 1\n",
       "pending charge                                             1\n",
       "pending lawsuit                                            2\n",
       "pending litigation                                         2\n",
       "police complaint                                           2\n",
       "police investigation                                      93\n",
       "policy                                                     9\n",
       "political                                                178\n",
       "political campaign                                         4\n",
       "profiled                                                  65\n",
       "protest                                                   37\n",
       "public hearing                                             5\n",
       "quebec human rights and youth rights commission            1\n",
       "quebec human rights commission                             1\n",
       "race relations                                           244\n",
       "race relations rally                                       3\n",
       "racial allegations                                         1\n",
       "racial profiling                                           2\n",
       "racial training                                            1\n",
       "rally                                                     10\n",
       "Name: tag, dtype: int64"
      ]
     },
     "execution_count": 26,
     "metadata": {},
     "output_type": "execute_result"
    }
   ],
   "source": [
    "tag_counts = tags['tag'].value_counts().sort_index()\n",
    "tag_counts.head(100)"
   ]
  },
  {
   "cell_type": "code",
   "execution_count": 27,
   "metadata": {},
   "outputs": [
    {
     "data": {
      "text/plain": [
       "rcmp investigation                  2\n",
       "robbery                             1\n",
       "settlement                          1\n",
       "sexist                              5\n",
       "terror                              1\n",
       "threats                             1\n",
       "transphobia                         1\n",
       "vandalism                          90\n",
       "violates international law (un)     1\n",
       "white supremacists                 89\n",
       "Name: tag, dtype: int64"
      ]
     },
     "execution_count": 27,
     "metadata": {},
     "output_type": "execute_result"
    }
   ],
   "source": [
    "tag_counts.iloc[100:]"
   ]
  },
  {
   "cell_type": "code",
   "execution_count": 28,
   "metadata": {},
   "outputs": [
    {
     "data": {
      "text/html": [
       "<div>\n",
       "<style scoped>\n",
       "    .dataframe tbody tr th:only-of-type {\n",
       "        vertical-align: middle;\n",
       "    }\n",
       "\n",
       "    .dataframe tbody tr th {\n",
       "        vertical-align: top;\n",
       "    }\n",
       "\n",
       "    .dataframe thead th {\n",
       "        text-align: right;\n",
       "    }\n",
       "</style>\n",
       "<table border=\"1\" class=\"dataframe\">\n",
       "  <thead>\n",
       "    <tr style=\"text-align: right;\">\n",
       "      <th></th>\n",
       "      <th>tag</th>\n",
       "    </tr>\n",
       "  </thead>\n",
       "  <tbody>\n",
       "    <tr>\n",
       "      <th>0</th>\n",
       "      <td>allegations</td>\n",
       "    </tr>\n",
       "    <tr>\n",
       "      <th>1</th>\n",
       "      <td>allegations against police</td>\n",
       "    </tr>\n",
       "    <tr>\n",
       "      <th>2</th>\n",
       "      <td>anti-afghan</td>\n",
       "    </tr>\n",
       "    <tr>\n",
       "      <th>3</th>\n",
       "      <td>anti-african</td>\n",
       "    </tr>\n",
       "    <tr>\n",
       "      <th>4</th>\n",
       "      <td>anti-arab</td>\n",
       "    </tr>\n",
       "    <tr>\n",
       "      <th>...</th>\n",
       "      <td>...</td>\n",
       "    </tr>\n",
       "    <tr>\n",
       "      <th>105</th>\n",
       "      <td>threats</td>\n",
       "    </tr>\n",
       "    <tr>\n",
       "      <th>106</th>\n",
       "      <td>transphobia</td>\n",
       "    </tr>\n",
       "    <tr>\n",
       "      <th>107</th>\n",
       "      <td>vandalism</td>\n",
       "    </tr>\n",
       "    <tr>\n",
       "      <th>108</th>\n",
       "      <td>violates international law (un)</td>\n",
       "    </tr>\n",
       "    <tr>\n",
       "      <th>109</th>\n",
       "      <td>white supremacists</td>\n",
       "    </tr>\n",
       "  </tbody>\n",
       "</table>\n",
       "<p>110 rows × 1 columns</p>\n",
       "</div>"
      ],
      "text/plain": [
       "                                 tag\n",
       "0                        allegations\n",
       "1         allegations against police\n",
       "2                        anti-afghan\n",
       "3                       anti-african\n",
       "4                          anti-arab\n",
       "..                               ...\n",
       "105                          threats\n",
       "106                      transphobia\n",
       "107                        vandalism\n",
       "108  violates international law (un)\n",
       "109               white supremacists\n",
       "\n",
       "[110 rows x 1 columns]"
      ]
     },
     "execution_count": 28,
     "metadata": {},
     "output_type": "execute_result"
    }
   ],
   "source": [
    "# List of unique tags\n",
    "tags_unique = tag_counts.index.to_frame(name='tag').reset_index(drop=True)\n",
    "tags_unique"
   ]
  },
  {
   "cell_type": "markdown",
   "metadata": {},
   "source": [
    "### Save CSV files"
   ]
  },
  {
   "cell_type": "code",
   "execution_count": 29,
   "metadata": {},
   "outputs": [],
   "source": [
    "def save_data(data, savefile, index=True):\n",
    "    print(f'Saving to {savefile}')\n",
    "    data.to_csv(savefile, index=index)"
   ]
  },
  {
   "cell_type": "code",
   "execution_count": 30,
   "metadata": {},
   "outputs": [
    {
     "name": "stdout",
     "output_type": "stream",
     "text": [
      "Saving to ../race_relations_raw_consolidated.csv\n",
      "Saving to article_urls.csv\n",
      "Saving to locations.csv\n",
      "Saving to tags_all.csv\n",
      "Saving to tags_unique.csv\n"
     ]
    }
   ],
   "source": [
    "if save_csv:\n",
    "    save_data(rr, '../race_relations_raw_consolidated.csv')\n",
    "    save_data(urls, 'article_urls.csv')\n",
    "    save_data(locations, 'locations.csv')\n",
    "    save_data(tags, 'tags_all.csv', index=False)\n",
    "    save_data(tags_unique, 'tags_unique.csv', index=False)"
   ]
  },
  {
   "cell_type": "code",
   "execution_count": null,
   "metadata": {},
   "outputs": [],
   "source": []
  }
 ],
 "metadata": {
  "kernelspec": {
   "display_name": "Python 3",
   "language": "python",
   "name": "python3"
  },
  "language_info": {
   "codemirror_mode": {
    "name": "ipython",
    "version": 3
   },
   "file_extension": ".py",
   "mimetype": "text/x-python",
   "name": "python",
   "nbconvert_exporter": "python",
   "pygments_lexer": "ipython3",
   "version": "3.7.6"
  }
 },
 "nbformat": 4,
 "nbformat_minor": 4
}
